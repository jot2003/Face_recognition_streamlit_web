{
 "cells": [
  {
   "cell_type": "code",
   "execution_count": 15,
   "id": "1cdee23b-e4ff-46e7-a960-f9df0875c71d",
   "metadata": {},
   "outputs": [],
   "source": [
    "import redis"
   ]
  },
  {
   "cell_type": "code",
   "execution_count": 16,
   "id": "04981a3f-5630-46e9-9240-bd99bffd33a7",
   "metadata": {},
   "outputs": [],
   "source": [
    "hostname = 'redis-10067.c281.us-east-1-2.ec2.cloud.redislabs.com'\n",
    "port = 10067\n",
    "password = 'UqHJtIVIf5c4CWHmB28jAqRNZU6SI7CS'\n",
    "\n",
    "r = redis.Redis(\n",
    "                host=hostname,\n",
    "                port=10067,\n",
    "                password=password,\n",
    ")"
   ]
  },
  {
   "cell_type": "markdown",
   "id": "57285867-15f5-4688-9423-63a962c79981",
   "metadata": {},
   "source": [
    "## Redis Strings\n",
    "- set\n",
    "- get"
   ]
  },
  {
   "cell_type": "code",
   "execution_count": 17,
   "id": "73005987-7db0-4cbd-813e-03864056bca5",
   "metadata": {},
   "outputs": [
    {
     "data": {
      "text/plain": [
       "True"
      ]
     },
     "execution_count": 17,
     "metadata": {},
     "output_type": "execute_result"
    }
   ],
   "source": [
    "r.set(name='foo', value='bar')"
   ]
  },
  {
   "cell_type": "code",
   "execution_count": 18,
   "id": "c1ce1988-eeaa-4346-a94c-1ff2db5ec9d5",
   "metadata": {},
   "outputs": [
    {
     "data": {
      "text/plain": [
       "b'bar'"
      ]
     },
     "execution_count": 18,
     "metadata": {},
     "output_type": "execute_result"
    }
   ],
   "source": [
    "r.get(name='foo')"
   ]
  },
  {
   "cell_type": "code",
   "execution_count": 19,
   "id": "db6ae0da-2240-4c65-820d-0dd3f4add184",
   "metadata": {},
   "outputs": [
    {
     "data": {
      "text/plain": [
       "[b'MESSAGE', b'foo', b'HIM', b'HI', b'KEY']"
      ]
     },
     "execution_count": 19,
     "metadata": {},
     "output_type": "execute_result"
    }
   ],
   "source": [
    "r.keys()"
   ]
  },
  {
   "cell_type": "code",
   "execution_count": null,
   "id": "d74afd52-bdb9-4cfc-98a6-ad4b3ebdbf14",
   "metadata": {},
   "outputs": [],
   "source": []
  }
 ],
 "metadata": {
  "kernelspec": {
   "display_name": "Python 3 (ipykernel)",
   "language": "python",
   "name": "python3"
  },
  "language_info": {
   "codemirror_mode": {
    "name": "ipython",
    "version": 3
   },
   "file_extension": ".py",
   "mimetype": "text/x-python",
   "name": "python",
   "nbconvert_exporter": "python",
   "pygments_lexer": "ipython3",
   "version": "3.11.7"
  }
 },
 "nbformat": 4,
 "nbformat_minor": 5
}
