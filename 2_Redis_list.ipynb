{
 "cells": [
  {
   "cell_type": "code",
   "execution_count": 3,
   "id": "1e2842ba-c932-4aa2-9aea-d9e1cef8c5fd",
   "metadata": {},
   "outputs": [],
   "source": [
    "import redis"
   ]
  },
  {
   "cell_type": "code",
   "execution_count": 4,
   "id": "903385e9-d1cd-4319-81a0-ceb312baa126",
   "metadata": {},
   "outputs": [],
   "source": [
    "hostname = 'redis-10067.c281.us-east-1-2.ec2.cloud.redislabs.com'\n",
    "port = 10067\n",
    "password = 'UqHJtIVIf5c4CWHmB28jAqRNZU6SI7CS'\n",
    "\n",
    "r = redis.Redis(\n",
    "                host=hostname,\n",
    "                port=10067,\n",
    "                password=password,\n",
    ")"
   ]
  },
  {
   "cell_type": "raw",
   "id": "b97e326f-c5fd-43a0-bb11-dd5b80c653a3",
   "metadata": {},
   "source": [
    "r.set(name='foo', value='bar')"
   ]
  },
  {
   "cell_type": "code",
   "execution_count": null,
   "id": "15cc57b7-ce9d-427f-89df-6bf32c1766c6",
   "metadata": {},
   "outputs": [],
   "source": []
  }
 ],
 "metadata": {
  "kernelspec": {
   "display_name": "Python 3 (ipykernel)",
   "language": "python",
   "name": "python3"
  },
  "language_info": {
   "codemirror_mode": {
    "name": "ipython",
    "version": 3
   },
   "file_extension": ".py",
   "mimetype": "text/x-python",
   "name": "python",
   "nbconvert_exporter": "python",
   "pygments_lexer": "ipython3",
   "version": "3.11.7"
  }
 },
 "nbformat": 4,
 "nbformat_minor": 5
}
