{
 "cells": [
  {
   "cell_type": "code",
   "execution_count": 26,
   "id": "97c8faee-502d-4c22-9e1c-ff69543d24a1",
   "metadata": {},
   "outputs": [],
   "source": [
    "import numpy as np\n",
    "import pandas as pd\n",
    "\n",
    "import redis"
   ]
  },
  {
   "cell_type": "code",
   "execution_count": 27,
   "id": "d3c3f297-cdb0-4963-9a4b-a844ee2b99cc",
   "metadata": {},
   "outputs": [],
   "source": [
    "# Connect to Redis Client\n",
    "#redis-19022.c273.us-east-1-2.ec2.redns.redis-cloud.com:19022\n",
    "#Od1yizh5yilrPQCkCNcab52la5QfKQjl\n",
    "hostname = 'redis-12907.c10.us-east-1-2.ec2.redns.redis-cloud.com'\n",
    "portnumber = 12907\n",
    "password = 'RuaoyvIP3M534KzoqzbJUWsWUaMw4UNX'\n",
    "\n",
    "r = redis.StrictRedis(host=hostname,\n",
    "                      port=portnumber,\n",
    "                      password=password)"
   ]
  },
  {
   "cell_type": "code",
   "execution_count": 28,
   "id": "cdb20389-1d76-4221-9724-aacddf21793d",
   "metadata": {},
   "outputs": [
    {
     "data": {
      "text/plain": [
       "True"
      ]
     },
     "execution_count": 28,
     "metadata": {},
     "output_type": "execute_result"
    }
   ],
   "source": [
    "r.ping()"
   ]
  },
  {
   "cell_type": "code",
   "execution_count": 29,
   "id": "f1c58fa5-8c83-4551-b376-a1ab6ea6730a",
   "metadata": {},
   "outputs": [
    {
     "data": {
      "text/plain": [
       "[b'academy:register']"
      ]
     },
     "execution_count": 29,
     "metadata": {},
     "output_type": "execute_result"
    }
   ],
   "source": [
    "r.keys()"
   ]
  },
  {
   "cell_type": "markdown",
   "id": "baa23df6-daee-4d1b-bb31-83b9698df71f",
   "metadata": {},
   "source": [
    "# Load the data (numpy zip)"
   ]
  },
  {
   "cell_type": "code",
   "execution_count": 30,
   "id": "6e15714e-7fdc-43e9-9cd3-18622629a155",
   "metadata": {},
   "outputs": [
    {
     "data": {
      "text/html": [
       "<div>\n",
       "<style scoped>\n",
       "    .dataframe tbody tr th:only-of-type {\n",
       "        vertical-align: middle;\n",
       "    }\n",
       "\n",
       "    .dataframe tbody tr th {\n",
       "        vertical-align: top;\n",
       "    }\n",
       "\n",
       "    .dataframe thead th {\n",
       "        text-align: right;\n",
       "    }\n",
       "</style>\n",
       "<table border=\"1\" class=\"dataframe\">\n",
       "  <thead>\n",
       "    <tr style=\"text-align: right;\">\n",
       "      <th></th>\n",
       "      <th>Name</th>\n",
       "      <th>Role</th>\n",
       "      <th>Facial_Features</th>\n",
       "    </tr>\n",
       "  </thead>\n",
       "  <tbody>\n",
       "    <tr>\n",
       "      <th>0</th>\n",
       "      <td>Angelina Jolie</td>\n",
       "      <td>Student</td>\n",
       "      <td>[0.4324317, 1.074975, -0.12851736, -1.833421, ...</td>\n",
       "    </tr>\n",
       "    <tr>\n",
       "      <th>1</th>\n",
       "      <td>Barack Obama</td>\n",
       "      <td>Teacher</td>\n",
       "      <td>[0.94846946, -0.5583677, 0.09491567, -1.279613...</td>\n",
       "    </tr>\n",
       "    <tr>\n",
       "      <th>2</th>\n",
       "      <td>Chris Evans</td>\n",
       "      <td>Student</td>\n",
       "      <td>[0.72002447, -1.4682528, -0.77743137, -1.45999...</td>\n",
       "    </tr>\n",
       "    <tr>\n",
       "      <th>3</th>\n",
       "      <td>Morgan Freeman</td>\n",
       "      <td>Teacher</td>\n",
       "      <td>[0.48562637, -0.61965686, -0.4072629, 1.068597...</td>\n",
       "    </tr>\n",
       "    <tr>\n",
       "      <th>4</th>\n",
       "      <td>Scarlett Johansson</td>\n",
       "      <td>Student</td>\n",
       "      <td>[0.1912692, -0.48850536, -1.6902622, 0.4422732...</td>\n",
       "    </tr>\n",
       "  </tbody>\n",
       "</table>\n",
       "</div>"
      ],
      "text/plain": [
       "                 Name     Role  \\\n",
       "0      Angelina Jolie  Student   \n",
       "1        Barack Obama  Teacher   \n",
       "2         Chris Evans  Student   \n",
       "3      Morgan Freeman  Teacher   \n",
       "4  Scarlett Johansson  Student   \n",
       "\n",
       "                                     Facial_Features  \n",
       "0  [0.4324317, 1.074975, -0.12851736, -1.833421, ...  \n",
       "1  [0.94846946, -0.5583677, 0.09491567, -1.279613...  \n",
       "2  [0.72002447, -1.4682528, -0.77743137, -1.45999...  \n",
       "3  [0.48562637, -0.61965686, -0.4072629, 1.068597...  \n",
       "4  [0.1912692, -0.48850536, -1.6902622, 0.4422732...  "
      ]
     },
     "execution_count": 30,
     "metadata": {},
     "output_type": "execute_result"
    }
   ],
   "source": [
    "np_file =  np.load('dataframe_students_teacher.npz', allow_pickle=True)\n",
    "x_values = np_file['arr_0']\n",
    "col_names = np_file['arr_1']\n",
    "\n",
    "df = pd.DataFrame(x_values, columns= col_names)\n",
    "df\n"
   ]
  },
  {
   "cell_type": "code",
   "execution_count": 31,
   "id": "8a9a2901-e736-4d51-b0f7-3035cd1f2d63",
   "metadata": {},
   "outputs": [
    {
     "data": {
      "text/html": [
       "<div>\n",
       "<style scoped>\n",
       "    .dataframe tbody tr th:only-of-type {\n",
       "        vertical-align: middle;\n",
       "    }\n",
       "\n",
       "    .dataframe tbody tr th {\n",
       "        vertical-align: top;\n",
       "    }\n",
       "\n",
       "    .dataframe thead th {\n",
       "        text-align: right;\n",
       "    }\n",
       "</style>\n",
       "<table border=\"1\" class=\"dataframe\">\n",
       "  <thead>\n",
       "    <tr style=\"text-align: right;\">\n",
       "      <th></th>\n",
       "      <th>Name</th>\n",
       "      <th>Role</th>\n",
       "      <th>Facial_Features</th>\n",
       "      <th>name_role</th>\n",
       "    </tr>\n",
       "  </thead>\n",
       "  <tbody>\n",
       "    <tr>\n",
       "      <th>0</th>\n",
       "      <td>Angelina Jolie</td>\n",
       "      <td>Student</td>\n",
       "      <td>[0.4324317, 1.074975, -0.12851736, -1.833421, ...</td>\n",
       "      <td>Angelina Jolie@Student</td>\n",
       "    </tr>\n",
       "    <tr>\n",
       "      <th>1</th>\n",
       "      <td>Barack Obama</td>\n",
       "      <td>Teacher</td>\n",
       "      <td>[0.94846946, -0.5583677, 0.09491567, -1.279613...</td>\n",
       "      <td>Barack Obama@Teacher</td>\n",
       "    </tr>\n",
       "    <tr>\n",
       "      <th>2</th>\n",
       "      <td>Chris Evans</td>\n",
       "      <td>Student</td>\n",
       "      <td>[0.72002447, -1.4682528, -0.77743137, -1.45999...</td>\n",
       "      <td>Chris Evans@Student</td>\n",
       "    </tr>\n",
       "    <tr>\n",
       "      <th>3</th>\n",
       "      <td>Morgan Freeman</td>\n",
       "      <td>Teacher</td>\n",
       "      <td>[0.48562637, -0.61965686, -0.4072629, 1.068597...</td>\n",
       "      <td>Morgan Freeman@Teacher</td>\n",
       "    </tr>\n",
       "    <tr>\n",
       "      <th>4</th>\n",
       "      <td>Scarlett Johansson</td>\n",
       "      <td>Student</td>\n",
       "      <td>[0.1912692, -0.48850536, -1.6902622, 0.4422732...</td>\n",
       "      <td>Scarlett Johansson@Student</td>\n",
       "    </tr>\n",
       "  </tbody>\n",
       "</table>\n",
       "</div>"
      ],
      "text/plain": [
       "                 Name     Role  \\\n",
       "0      Angelina Jolie  Student   \n",
       "1        Barack Obama  Teacher   \n",
       "2         Chris Evans  Student   \n",
       "3      Morgan Freeman  Teacher   \n",
       "4  Scarlett Johansson  Student   \n",
       "\n",
       "                                     Facial_Features  \\\n",
       "0  [0.4324317, 1.074975, -0.12851736, -1.833421, ...   \n",
       "1  [0.94846946, -0.5583677, 0.09491567, -1.279613...   \n",
       "2  [0.72002447, -1.4682528, -0.77743137, -1.45999...   \n",
       "3  [0.48562637, -0.61965686, -0.4072629, 1.068597...   \n",
       "4  [0.1912692, -0.48850536, -1.6902622, 0.4422732...   \n",
       "\n",
       "                    name_role  \n",
       "0      Angelina Jolie@Student  \n",
       "1        Barack Obama@Teacher  \n",
       "2         Chris Evans@Student  \n",
       "3      Morgan Freeman@Teacher  \n",
       "4  Scarlett Johansson@Student  "
      ]
     },
     "execution_count": 31,
     "metadata": {},
     "output_type": "execute_result"
    }
   ],
   "source": [
    "df['name_role'] = df['Name']+'@'+df['Role']\n",
    "df"
   ]
  },
  {
   "cell_type": "code",
   "execution_count": 32,
   "id": "585254f7-3b26-4667-a995-b3dbe1ac03d7",
   "metadata": {},
   "outputs": [
    {
     "data": {
      "text/plain": [
       "5"
      ]
     },
     "execution_count": 32,
     "metadata": {},
     "output_type": "execute_result"
    }
   ],
   "source": [
    "records = df[['name_role', 'Facial_Features']].to_dict(orient= 'records')\n",
    "len(records)"
   ]
  },
  {
   "cell_type": "code",
   "execution_count": 33,
   "id": "7f4ebc27-c667-4778-bc64-e22c9cdd1e11",
   "metadata": {},
   "outputs": [
    {
     "data": {
      "text/plain": [
       "{'name_role': 'Angelina Jolie@Student',\n",
       " 'Facial_Features': array([ 4.32431698e-01,  1.07497501e+00, -1.28517359e-01, -1.83342099e+00,\n",
       "        -7.27894962e-01, -1.23478580e+00, -2.34371498e-01, -3.73195887e-01,\n",
       "        -6.96727574e-01, -3.52599770e-01, -1.86734408e-01, -8.56367767e-01,\n",
       "        -7.25917757e-01,  1.59811819e+00,  1.89431876e-01, -8.71563181e-02,\n",
       "        -8.61443207e-02,  9.60008949e-02, -4.31728780e-01,  5.76174371e-02,\n",
       "         1.06118068e-01, -1.08412838e+00, -3.68282855e-01, -3.46593767e-01,\n",
       "         5.47743857e-01, -3.21061790e-01,  1.65757394e+00,  3.66954863e-01,\n",
       "         9.40257430e-01,  1.18212664e+00,  4.02751446e-01,  5.15111387e-01,\n",
       "         2.07609081e+00, -1.63683343e+00, -1.61303684e-01, -9.74441692e-02,\n",
       "        -7.65372336e-01,  7.55956531e-01, -1.70625043e+00,  2.01861054e-01,\n",
       "        -1.64390409e+00,  5.47618628e-01,  2.28820726e-01, -3.25713366e-01,\n",
       "         1.90994948e-01,  3.10903162e-01, -1.85834146e+00,  2.55886801e-02,\n",
       "         1.24444917e-01, -4.55851406e-01, -1.25299227e+00,  3.16740334e-01,\n",
       "        -8.48496795e-01,  3.68498087e-01, -7.99230278e-01, -5.33696592e-01,\n",
       "        -6.42137170e-01, -5.25115058e-02,  5.49370460e-02, -5.24478316e-01,\n",
       "        -6.60202026e-01, -1.96388096e-01,  1.29220456e-01, -1.10936500e-01,\n",
       "        -1.78017661e-01, -9.36060309e-01,  9.43155121e-03, -1.80849552e+00,\n",
       "         4.60456043e-01, -1.02915442e+00,  9.62557316e-01, -4.96896803e-01,\n",
       "        -9.53437686e-01, -3.30015481e-01, -4.96418774e-01,  3.49185288e-01,\n",
       "        -2.51783162e-01,  1.66322541e+00,  2.95161128e-01, -1.05799603e+00,\n",
       "        -1.85916610e-02,  7.49508321e-01,  3.38725179e-01, -1.69119880e-01,\n",
       "         1.76107347e-01,  2.47761965e-01,  7.08997130e-01,  7.72511065e-01,\n",
       "         4.02645350e-01, -7.33445138e-02,  1.51263392e+00,  4.11169916e-01,\n",
       "        -7.50907481e-01,  1.26650071e+00, -3.41302752e-02,  2.44399309e-01,\n",
       "         1.59859812e+00,  1.13287604e+00, -1.63913894e+00,  1.14009120e-01,\n",
       "        -4.56301033e-01, -6.43117964e-01, -6.29148364e-01,  9.11160827e-01,\n",
       "         1.45636676e-02, -8.77291799e-01, -1.51949197e-01, -1.15234852e+00,\n",
       "        -1.47867489e+00,  1.25552297e+00, -8.33099246e-01,  9.96565938e-01,\n",
       "        -2.28853468e-02, -3.87900352e-01, -5.90960272e-02,  6.97800517e-01,\n",
       "        -2.24300787e-01,  4.86123741e-01,  3.49139869e-01, -1.72598493e+00,\n",
       "         2.93554544e-01, -2.58807123e-01, -1.14373755e+00,  6.70313060e-01,\n",
       "        -1.29111946e+00,  9.04455960e-01, -2.78551728e-01,  1.26063848e+00,\n",
       "        -1.72731650e+00,  3.44526410e-01, -5.10688052e-02, -7.04599023e-01,\n",
       "         1.05122745e+00, -4.09794487e-02, -6.97000325e-01, -7.82345772e-01,\n",
       "        -1.55175030e-02,  5.24633408e-01, -8.15650940e-01,  1.09470677e+00,\n",
       "         2.29715586e-01, -1.27193606e+00,  2.91067779e-01, -5.94792485e-01,\n",
       "         2.38170475e-01, -3.93958569e-01, -1.10906005e+00, -5.52712023e-01,\n",
       "         8.37508664e-02, -7.66776323e-01,  9.82524872e-01,  1.49713087e+00,\n",
       "         5.02714813e-01, -6.18102729e-01,  7.33738840e-01,  4.02574539e-02,\n",
       "        -8.20769012e-01,  5.47613025e-01, -2.36961961e-01, -3.74369800e-01,\n",
       "        -2.02921420e-01,  6.45452380e-01,  1.49581659e+00,  6.78208590e-01,\n",
       "        -1.05128940e-02,  9.63050067e-01,  1.53645560e-01,  2.98696339e-01,\n",
       "        -1.05674863e+00,  3.65669101e-01,  1.20329738e+00, -1.73325211e-01,\n",
       "        -1.09427238e+00,  6.36966050e-01,  7.55970359e-01,  3.67324024e-01,\n",
       "        -7.44597554e-01,  5.68216920e-01, -1.23178676e-01, -1.45299602e+00,\n",
       "         4.54695225e-01, -1.64761305e-01, -9.53086972e-01, -8.24864745e-01,\n",
       "         2.46708199e-01,  2.51803070e-01, -4.56613041e-02,  8.71903062e-01,\n",
       "        -3.27394038e-01,  7.26628155e-02,  1.39062867e-01, -8.22094440e-01,\n",
       "         1.01548445e+00, -1.02063525e+00,  9.92249966e-01,  9.80951488e-01,\n",
       "        -1.41100740e+00, -1.07795799e+00, -4.74275291e-01,  1.53365457e+00,\n",
       "        -6.22476280e-01,  1.03924966e+00,  1.41885847e-01,  1.44542336e-01,\n",
       "        -1.51074842e-01,  6.98302329e-01,  4.15150821e-01, -5.42890191e-01,\n",
       "         8.23155284e-01, -2.05851555e-01, -6.25589430e-01, -8.61934066e-01,\n",
       "         3.73997390e-02,  8.30348313e-01, -1.45480919e+00, -1.40063190e+00,\n",
       "        -1.15507567e+00, -6.14547789e-01, -8.33874345e-01, -1.57449871e-01,\n",
       "         9.44599926e-01, -3.54454964e-01, -9.51220915e-02, -1.06932616e+00,\n",
       "         1.16646826e+00, -1.79805875e-01,  1.17431569e+00, -1.39642090e-01,\n",
       "         1.48571348e+00,  4.30209227e-02, -2.83661693e-01,  8.35836530e-02,\n",
       "        -1.26320314e+00, -1.04036784e+00,  1.16400933e+00,  2.73909092e-01,\n",
       "         1.69723380e+00, -8.17719817e-01, -7.79380858e-01, -5.79533935e-01,\n",
       "        -1.36592591e+00,  1.28047490e+00, -5.96221745e-01,  1.26400971e+00,\n",
       "         6.71316087e-01, -3.56526077e-01, -5.91713011e-01, -5.93338668e-01,\n",
       "        -9.73386586e-01, -5.45047402e-01, -9.83666301e-01, -1.28618451e-02,\n",
       "         2.32204586e-01, -1.17697716e-01,  1.21393546e-01,  1.10877383e+00,\n",
       "         3.96175802e-01,  1.43212363e-01, -4.19144556e-02, -7.89476514e-01,\n",
       "         6.44514114e-02, -2.98840702e-01,  7.29558244e-02,  2.18455672e+00,\n",
       "        -2.60853797e-01, -1.40947545e+00, -1.58519924e-01, -3.46879452e-01,\n",
       "         1.24035621e+00, -1.36681116e+00, -1.56065986e-01,  5.94851494e-01,\n",
       "         1.73013043e+00, -9.88154292e-01, -3.93299967e-01, -7.00982928e-01,\n",
       "         1.44624555e+00, -6.17796719e-01,  5.04535794e-01,  7.57319391e-01,\n",
       "         6.66289106e-02, -4.74905819e-01, -3.37776124e-01, -1.46232784e-01,\n",
       "        -1.36161402e-01, -2.19005466e-01, -9.50658321e-01, -5.17396808e-01,\n",
       "         8.49176586e-01, -2.31081933e-01,  1.48621511e+00, -4.68153894e-01,\n",
       "         6.72854602e-01, -2.32755274e-01,  3.62996280e-01,  2.82538116e-01,\n",
       "         1.47295725e+00,  3.66916955e-01, -2.04971939e-01,  6.66984543e-02,\n",
       "        -1.71441391e-01, -2.06726547e-02,  9.18937504e-01,  3.13383102e-01,\n",
       "        -1.07352281e+00, -5.24557710e-01, -1.45622998e-01, -1.26555532e-01,\n",
       "        -1.93860278e-01, -1.00253415e+00,  1.99324504e-01, -5.48626781e-01,\n",
       "         2.21288210e-04,  1.37602937e+00,  1.54004455e+00, -9.15435970e-01,\n",
       "         5.36490500e-01, -6.20814025e-01,  2.76170820e-02,  2.36324877e-01,\n",
       "        -7.27338433e-01, -2.39239335e-01,  1.40695083e+00,  6.25609517e-01,\n",
       "        -4.32642400e-01,  8.34303975e-01,  1.28264636e-01, -5.36391497e-01,\n",
       "         6.99281812e-01, -4.83319052e-02,  2.13909531e+00, -1.01478720e+00,\n",
       "        -8.76541436e-01, -3.04191113e-01, -4.30671990e-01,  3.73486988e-02,\n",
       "        -4.62642759e-01, -7.92734623e-01,  5.59763074e-01,  4.94395733e-01,\n",
       "         3.89781326e-01, -1.46039355e+00, -3.94422114e-01,  5.18502235e-01,\n",
       "        -1.53410399e+00,  2.69571424e+00,  1.01892136e-01,  6.39610142e-02,\n",
       "         7.19770789e-01,  4.26127195e-01,  1.22610688e+00, -7.25186765e-02,\n",
       "         8.77873600e-01, -7.60352850e-01,  6.69818044e-01,  1.15272090e-01,\n",
       "        -3.32670510e-01,  2.00029090e-01, -1.27975202e+00,  3.30591530e-01,\n",
       "         6.46065474e-02, -2.10449606e-01, -2.36459821e-01, -2.23330095e-01,\n",
       "         9.20753956e-01,  2.04405829e-01,  1.45500660e-01, -2.80147344e-01,\n",
       "         2.11027831e-01,  4.20549572e-01,  1.09345734e+00, -3.83387059e-01,\n",
       "         2.60276705e-01,  2.43099600e-01,  7.71353990e-02, -4.94049527e-02,\n",
       "         3.72926414e-01, -1.88638592e+00,  2.22088188e-01, -4.77471650e-01,\n",
       "         2.01433492e+00,  5.17443776e-01, -1.10601699e+00,  1.20060280e-01,\n",
       "         1.88150287e-01,  8.78761411e-02,  9.94748026e-02, -5.29835641e-01,\n",
       "        -2.11291456e+00,  3.48536402e-01,  1.42109561e+00, -1.39339280e+00,\n",
       "        -7.85221159e-01,  2.15652823e+00,  9.77601185e-02,  1.37219203e+00,\n",
       "         1.77596152e+00,  6.60388023e-02, -7.62267590e-01, -7.80077800e-02,\n",
       "         1.63165241e-01, -1.30163062e+00,  4.16146457e-01, -6.93104327e-01,\n",
       "         4.38839257e-01,  2.29871899e-01, -5.62235534e-01,  1.91618037e+00,\n",
       "         1.01404786e+00,  1.60029924e+00, -1.72451532e+00, -7.32626200e-01,\n",
       "         3.29348981e-01, -3.74352306e-01, -1.04076111e+00,  2.47719169e-01,\n",
       "        -5.94486296e-01,  5.19158244e-01, -3.14204454e-01, -7.38101542e-01,\n",
       "        -3.90383422e-01, -2.91372240e-01,  1.38594866e-01,  6.93641603e-01,\n",
       "         7.45428443e-01, -9.04129148e-01, -1.11510086e+00, -1.73014458e-02,\n",
       "        -2.13255584e-02, -2.29193211e-01,  4.43233818e-01, -8.86059761e-01,\n",
       "         4.84136999e-01,  4.19524610e-02,  1.18893325e+00, -1.80659100e-01,\n",
       "        -2.00676974e-02, -1.08501756e+00,  5.30128479e-01,  7.44393945e-01,\n",
       "         5.12548797e-02, -1.19308636e-01,  1.77779102e+00, -7.82184243e-01,\n",
       "        -1.27926946e+00,  5.86539805e-01, -1.39933944e+00,  1.00141335e+00,\n",
       "        -1.53569663e+00, -4.89654720e-01,  2.90319651e-01, -1.33209124e-01,\n",
       "         9.11452293e-01,  1.79207385e+00,  3.82536471e-01,  1.04089093e+00,\n",
       "         1.32584721e-01,  6.33041859e-01,  1.05607653e+00,  3.58997911e-01,\n",
       "         3.94909173e-01,  9.33273792e-01, -3.64148051e-01,  3.86909425e-01,\n",
       "         1.02972281e+00,  1.00233600e-01, -5.13950944e-01,  2.48458982e-02,\n",
       "        -6.81170106e-01,  3.05489190e-02,  4.12217200e-01,  2.26944491e-01,\n",
       "        -7.50102162e-01,  9.18100953e-01, -1.77905321e-01, -1.38730323e+00,\n",
       "         6.41265661e-02,  1.53009385e-01, -1.08447242e+00, -3.91173035e-01,\n",
       "        -4.39748764e-01, -3.35846812e-01,  1.80991113e+00,  4.05547917e-01,\n",
       "        -1.27362990e+00, -2.09265903e-01,  1.12278864e-01, -8.41337025e-01,\n",
       "         3.01882386e-01, -6.90208733e-01, -1.43820786e+00, -2.61964351e-01,\n",
       "        -1.30718696e+00, -5.09029604e-04,  8.07832062e-01,  7.75540829e-01,\n",
       "        -2.14672238e-01, -5.42331874e-01, -1.14448214e+00, -2.85455048e-01,\n",
       "        -1.67861176e+00,  1.43666756e+00, -5.97916305e-01, -5.13800323e-01,\n",
       "        -1.88521981e-01, -8.02952468e-01,  1.12099421e+00, -4.94795263e-01,\n",
       "        -3.65578413e-01,  1.40434754e+00, -5.18291414e-01, -8.81481946e-01],\n",
       "       dtype=float32)}"
      ]
     },
     "execution_count": 33,
     "metadata": {},
     "output_type": "execute_result"
    }
   ],
   "source": [
    "records[0]"
   ]
  },
  {
   "cell_type": "markdown",
   "id": "3ca6aabf-cbce-43d6-8672-20bcba13d0e5",
   "metadata": {},
   "source": [
    "## Save data in Redis\n",
    "- redis hashes\n",
    "- keyname = 'academy:register'"
   ]
  },
  {
   "cell_type": "code",
   "execution_count": 34,
   "id": "ff8dfb2f-42cf-4ba3-a419-7bc91ca1984a",
   "metadata": {},
   "outputs": [],
   "source": [
    "for record in records:\n",
    "    name_role = record['name_role']\n",
    "    vector =  record['Facial_Features']\n",
    "\n",
    "    # convert numpy array into bytes\n",
    "    vector_bytes = vector.tobytes()\n",
    "    # save data into redis cloud    \n",
    "    r.hset('academy:register', key=name_role, value=vector_bytes)"
   ]
  },
  {
   "cell_type": "markdown",
   "id": "cbff2e0c-2533-44dd-9ecf-fa08b8f110f5",
   "metadata": {},
   "source": [
    "### Registration Form"
   ]
  },
  {
   "cell_type": "code",
   "execution_count": 12,
   "id": "50bffe28-1eaf-411f-b312-7291cf176300",
   "metadata": {},
   "outputs": [],
   "source": [
    "import cv2\n",
    "from insightface.app import FaceAnalysis"
   ]
  },
  {
   "cell_type": "code",
   "execution_count": 13,
   "id": "36566fe0-e42d-4672-993c-3cd5ea0694b1",
   "metadata": {},
   "outputs": [
    {
     "name": "stdout",
     "output_type": "stream",
     "text": [
      "Applied providers: ['CPUExecutionProvider'], with options: {'CPUExecutionProvider': {}}\n",
      "find model: insightface_model\\models\\buffalo_sc\\det_500m.onnx detection [1, 3, '?', '?'] 127.5 128.0\n",
      "Applied providers: ['CPUExecutionProvider'], with options: {'CPUExecutionProvider': {}}\n",
      "find model: insightface_model\\models\\buffalo_sc\\w600k_mbf.onnx recognition ['None', 3, 112, 112] 127.5 127.5\n",
      "set det-size: (640, 640)\n"
     ]
    }
   ],
   "source": [
    "#configure face analysis\n",
    "faceapp = FaceAnalysis(name='buffalo_sc',\n",
    "                       root='insightface_model',\n",
    "                       providers=['CPUExecutionProvider'])\n",
    "faceapp.prepare(ctx_id=0, det_size=(640,640), det_thresh=0.5)\n",
    "#warning: dont set det_thresh<0.5)"
   ]
  },
  {
   "cell_type": "markdown",
   "id": "f1d4595e-e8ec-46e7-a2f9-bb7fc1ffedb5",
   "metadata": {},
   "source": [
    "### step 1: Collect Person and Role"
   ]
  },
  {
   "cell_type": "code",
   "execution_count": 14,
   "id": "f126e47d-5410-4c56-acb1-5a360349c337",
   "metadata": {},
   "outputs": [
    {
     "name": "stdin",
     "output_type": "stream",
     "text": [
      "Enter your name:  Tri Thanh\n",
      "\n",
      "    Please Choose\n",
      "    1. Student\n",
      "    2. Teacher\n",
      "\n",
      "    Enter number either 1 or 2\n",
      "     1\n"
     ]
    },
    {
     "name": "stdout",
     "output_type": "stream",
     "text": [
      "Your name =  Tri Thanh\n",
      "Your role =  Student\n",
      "Key =  Tri Thanh@Student\n"
     ]
    }
   ],
   "source": [
    "#python input\n",
    "person_name = input('Enter your name: ')\n",
    "\n",
    "trials = 3\n",
    "for i in range(trials):\n",
    "    role=input(\"\"\"\n",
    "    Please Choose\n",
    "    1. Student\n",
    "    2. Teacher\n",
    "\n",
    "    Enter number either 1 or 2\n",
    "    \"\"\"  \n",
    "    )\n",
    "    if role in ('1','2'):\n",
    "        if role=='1':\n",
    "            role= 'Student'\n",
    "        else:\n",
    "            role='Teacher'\n",
    "        break\n",
    "    else:\n",
    "        print('Invalid entry try again')\n",
    "        if i == 3:\n",
    "            print('Exceeds maximum trials')\n",
    "\n",
    "key = person_name + '@' + role\n",
    "print('Your name = ', person_name)\n",
    "print('Your role = ', role)\n",
    "print('Key = ', key)\n",
    "\n",
    "\n"
   ]
  },
  {
   "cell_type": "code",
   "execution_count": 16,
   "id": "cfae7cdd-da6d-4034-b90e-e962c7b87f58",
   "metadata": {},
   "outputs": [
    {
     "data": {
      "text/plain": [
       "('Tri Thanh', 'Student')"
      ]
     },
     "execution_count": 16,
     "metadata": {},
     "output_type": "execute_result"
    }
   ],
   "source": [
    "person_name, role\n"
   ]
  },
  {
   "cell_type": "markdown",
   "id": "40ab155f-37f1-419f-9c61-01282f83a88e",
   "metadata": {},
   "source": [
    "### step 2: Collect Samples"
   ]
  },
  {
   "cell_type": "code",
   "execution_count": 17,
   "id": "d758897c-3c4c-45d3-8c60-35919bb00a23",
   "metadata": {},
   "outputs": [],
   "source": [
    "cap = cv2.VideoCapture(0) # 0 default camera, 1 external camera\n",
    "face_embeddings = []\n",
    "sample = 0\n",
    "while True:\n",
    "    ret, frame = cap.read()\n",
    "    if ret == False:\n",
    "        print('Unable to read camera')\n",
    "        break\n",
    "\n",
    "    #get result from insightface model\n",
    "    results = faceapp.get(frame, max_num=1)\n",
    "    for res in results:\n",
    "        sample += 1\n",
    "        x1, y1, x2, y2 = res['bbox'].astype(int)\n",
    "        cv2.rectangle(frame, (x1, y1), (x2,y2), (0, 255, 0), 1)\n",
    "\n",
    "        #facial features\n",
    "        embeddings = res['embedding']\n",
    "        face_embeddings.append(embeddings)\n",
    "\n",
    "    if sample >= 200:\n",
    "        break\n",
    "    \n",
    "    cv2.imshow('frame',frame)\n",
    "    if cv2.waitKey(1) == ord('q'):\n",
    "        break\n",
    "\n",
    "cap.release()\n",
    "cv2.destroyAllWindows()"
   ]
  },
  {
   "cell_type": "code",
   "execution_count": 22,
   "id": "3e1e2dc4-8073-4288-b76d-9fa9f1eec8e5",
   "metadata": {},
   "outputs": [
    {
     "data": {
      "text/plain": [
       "200"
      ]
     },
     "execution_count": 22,
     "metadata": {},
     "output_type": "execute_result"
    }
   ],
   "source": [
    "len(face_embeddings)"
   ]
  },
  {
   "cell_type": "code",
   "execution_count": 23,
   "id": "3e3a443a-9b64-4261-b784-d89076468120",
   "metadata": {},
   "outputs": [
    {
     "data": {
      "text/plain": [
       "(512,)"
      ]
     },
     "execution_count": 23,
     "metadata": {},
     "output_type": "execute_result"
    }
   ],
   "source": [
    "x_mean = np.asarray(face_embeddings).mean(axis=0)\n",
    "x_mean.shape"
   ]
  },
  {
   "cell_type": "code",
   "execution_count": 24,
   "id": "8abd2595-36ca-41b7-9959-463e4cd3b85a",
   "metadata": {},
   "outputs": [],
   "source": [
    "# convert into bytes\n",
    "x_mean_bytes = x_mean.tobytes()"
   ]
  },
  {
   "cell_type": "code",
   "execution_count": 25,
   "id": "a277158a-70d5-4f14-83ab-e20bf9b12da1",
   "metadata": {},
   "outputs": [
    {
     "data": {
      "text/plain": [
       "0"
      ]
     },
     "execution_count": 25,
     "metadata": {},
     "output_type": "execute_result"
    }
   ],
   "source": [
    "# save key and facial bytes into redis database\n",
    "r.hset('academy:register', key=key, value=x_mean_bytes)\n"
   ]
  },
  {
   "cell_type": "code",
   "execution_count": null,
   "id": "99c4bdb7-6a55-48b5-874b-790f7f0016e8",
   "metadata": {},
   "outputs": [],
   "source": []
  },
  {
   "cell_type": "code",
   "execution_count": null,
   "id": "6377b781-bbb2-4e50-a00f-14bf96ade3ad",
   "metadata": {},
   "outputs": [],
   "source": []
  }
 ],
 "metadata": {
  "kernelspec": {
   "display_name": "Python 3 (ipykernel)",
   "language": "python",
   "name": "python3"
  },
  "language_info": {
   "codemirror_mode": {
    "name": "ipython",
    "version": 3
   },
   "file_extension": ".py",
   "mimetype": "text/x-python",
   "name": "python",
   "nbconvert_exporter": "python",
   "pygments_lexer": "ipython3",
   "version": "3.11.7"
  }
 },
 "nbformat": 4,
 "nbformat_minor": 5
}
