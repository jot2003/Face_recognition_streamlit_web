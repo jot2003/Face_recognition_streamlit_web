{
 "cells": [
  {
   "cell_type": "code",
   "execution_count": 56,
   "id": "71c3400c-29bd-40f7-9895-c880a84f9ec9",
   "metadata": {},
   "outputs": [],
   "source": [
    "import face_reco"
   ]
  },
  {
   "cell_type": "code",
   "execution_count": 57,
   "id": "3765838a-e396-44df-8297-4d8aae5affa7",
   "metadata": {},
   "outputs": [],
   "source": [
    "import pandas as pd\n",
    "import numpy as np\n",
    "import cv2"
   ]
  },
  {
   "cell_type": "code",
   "execution_count": 58,
   "id": "2ec41856-aa6d-4a7b-bd18-f664b799adec",
   "metadata": {},
   "outputs": [
    {
     "data": {
      "text/plain": [
       "True"
      ]
     },
     "execution_count": 58,
     "metadata": {},
     "output_type": "execute_result"
    }
   ],
   "source": [
    "face_reco.r.ping()"
   ]
  },
  {
   "cell_type": "markdown",
   "id": "ac80c302-1c5f-450f-beda-3d2d588c8a6e",
   "metadata": {},
   "source": [
    "#### Step 1: Extract Data from Database"
   ]
  },
  {
   "cell_type": "code",
   "execution_count": 62,
   "id": "06f53764-e57b-40b5-9a24-f62d2f245317",
   "metadata": {},
   "outputs": [
    {
     "data": {
      "text/html": [
       "<div>\n",
       "<style scoped>\n",
       "    .dataframe tbody tr th:only-of-type {\n",
       "        vertical-align: middle;\n",
       "    }\n",
       "\n",
       "    .dataframe tbody tr th {\n",
       "        vertical-align: top;\n",
       "    }\n",
       "\n",
       "    .dataframe thead th {\n",
       "        text-align: right;\n",
       "    }\n",
       "</style>\n",
       "<table border=\"1\" class=\"dataframe\">\n",
       "  <thead>\n",
       "    <tr style=\"text-align: right;\">\n",
       "      <th></th>\n",
       "      <th>name_role</th>\n",
       "      <th>facial_features</th>\n",
       "      <th>Name</th>\n",
       "      <th>Role</th>\n",
       "    </tr>\n",
       "  </thead>\n",
       "  <tbody>\n",
       "    <tr>\n",
       "      <th>0</th>\n",
       "      <td>Chris Evans@Student</td>\n",
       "      <td>[0.72002447, -1.4682528, -0.77743137, -1.45999...</td>\n",
       "      <td>Chris Evans</td>\n",
       "      <td>Student</td>\n",
       "    </tr>\n",
       "    <tr>\n",
       "      <th>1</th>\n",
       "      <td>Barack Obama@Teacher</td>\n",
       "      <td>[0.94846946, -0.5583677, 0.09491567, -1.279613...</td>\n",
       "      <td>Barack Obama</td>\n",
       "      <td>Teacher</td>\n",
       "    </tr>\n",
       "    <tr>\n",
       "      <th>2</th>\n",
       "      <td>Angelina Jolie@Student</td>\n",
       "      <td>[0.4324317, 1.074975, -0.12851736, -1.833421, ...</td>\n",
       "      <td>Angelina Jolie</td>\n",
       "      <td>Student</td>\n",
       "    </tr>\n",
       "    <tr>\n",
       "      <th>3</th>\n",
       "      <td>Eren Yeager@Student</td>\n",
       "      <td>[0.07091031, -1.1894554, -1.0228689, 0.5795339...</td>\n",
       "      <td>Eren Yeager</td>\n",
       "      <td>Student</td>\n",
       "    </tr>\n",
       "    <tr>\n",
       "      <th>4</th>\n",
       "      <td>Morgan Freeman@Teacher</td>\n",
       "      <td>[0.48562637, -0.61965686, -0.4072629, 1.068597...</td>\n",
       "      <td>Morgan Freeman</td>\n",
       "      <td>Teacher</td>\n",
       "    </tr>\n",
       "    <tr>\n",
       "      <th>5</th>\n",
       "      <td>Scarlett Johansson@Student</td>\n",
       "      <td>[0.1912692, -0.48850536, -1.6902622, 0.4422732...</td>\n",
       "      <td>Scarlett Johansson</td>\n",
       "      <td>Student</td>\n",
       "    </tr>\n",
       "  </tbody>\n",
       "</table>\n",
       "</div>"
      ],
      "text/plain": [
       "                    name_role  \\\n",
       "0         Chris Evans@Student   \n",
       "1        Barack Obama@Teacher   \n",
       "2      Angelina Jolie@Student   \n",
       "3         Eren Yeager@Student   \n",
       "4      Morgan Freeman@Teacher   \n",
       "5  Scarlett Johansson@Student   \n",
       "\n",
       "                                     facial_features                Name  \\\n",
       "0  [0.72002447, -1.4682528, -0.77743137, -1.45999...         Chris Evans   \n",
       "1  [0.94846946, -0.5583677, 0.09491567, -1.279613...        Barack Obama   \n",
       "2  [0.4324317, 1.074975, -0.12851736, -1.833421, ...      Angelina Jolie   \n",
       "3  [0.07091031, -1.1894554, -1.0228689, 0.5795339...         Eren Yeager   \n",
       "4  [0.48562637, -0.61965686, -0.4072629, 1.068597...      Morgan Freeman   \n",
       "5  [0.1912692, -0.48850536, -1.6902622, 0.4422732...  Scarlett Johansson   \n",
       "\n",
       "      Role  \n",
       "0  Student  \n",
       "1  Teacher  \n",
       "2  Student  \n",
       "3  Student  \n",
       "4  Teacher  \n",
       "5  Student  "
      ]
     },
     "execution_count": 62,
     "metadata": {},
     "output_type": "execute_result"
    }
   ],
   "source": [
    "name = 'academy:register'\n",
    "retrive_dict = face_reco.r.hgetall(name)\n",
    "retrive_series = pd.Series(retrive_dict)\n",
    "retrive_series = retrive_series.apply(lambda x: np.frombuffer(x, dtype=np.float32))\n",
    "index = retrive_series.index\n",
    "index = list(map(lambda x: x.decode(), index))\n",
    "retrive_series.index = index\n",
    "retrive_df = retrive_series.to_frame().reset_index()\n",
    "retrive_df.columns = ['name_role','facial_features']\n",
    "retrive_df[['Name', 'Role']]= retrive_df['name_role'].apply(lambda x: x.split('@')).apply(pd.Series)\n",
    "retrive_df"
   ]
  },
  {
   "cell_type": "markdown",
   "id": "b39133ee-5a27-48df-9ecc-d182c529920e",
   "metadata": {},
   "source": [
    "### step 2: Get Real_time Prediction"
   ]
  },
  {
   "cell_type": "code",
   "execution_count": 64,
   "id": "e44878e6-c6f1-4028-b651-4da7604cca05",
   "metadata": {},
   "outputs": [],
   "source": [
    "cap = cv2.VideoCapture(0)\n",
    "\n",
    "while True:\n",
    "    ret, frame = cap.read()\n",
    "    if ret == False:\n",
    "        break\n",
    "    pred_frame = face_reco.face_prediction(frame,retrive_df, 'facial_features',['Name','Role'], thresh=0.5)\n",
    "\n",
    "    #cv2.imshow('frame',frame)\n",
    "    cv2.imshow('prediction',pred_frame)\n",
    "\n",
    "    if cv2.waitKey(1) == 27:\n",
    "        break\n",
    "        \n",
    "cv2.destroyAllWindows()\n",
    "cap.release()"
   ]
  },
  {
   "cell_type": "code",
   "execution_count": null,
   "id": "d8dea428-d592-499b-a215-4e7446642dc6",
   "metadata": {},
   "outputs": [],
   "source": []
  },
  {
   "cell_type": "code",
   "execution_count": null,
   "id": "f4da9ade-a31f-4372-8b54-edf236eb3a2b",
   "metadata": {},
   "outputs": [],
   "source": []
  }
 ],
 "metadata": {
  "kernelspec": {
   "display_name": "Python 3 (ipykernel)",
   "language": "python",
   "name": "python3"
  },
  "language_info": {
   "codemirror_mode": {
    "name": "ipython",
    "version": 3
   },
   "file_extension": ".py",
   "mimetype": "text/x-python",
   "name": "python",
   "nbconvert_exporter": "python",
   "pygments_lexer": "ipython3",
   "version": "3.11.7"
  }
 },
 "nbformat": 4,
 "nbformat_minor": 5
}
