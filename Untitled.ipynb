{
 "cells": [
  {
   "cell_type": "code",
   "execution_count": 1,
   "id": "c0db766d-b78a-456f-8eaf-4d49993e41c5",
   "metadata": {},
   "outputs": [],
   "source": [
    "import redis"
   ]
  },
  {
   "cell_type": "code",
   "execution_count": 2,
   "id": "747ae16e-062e-40c7-8fc6-3c83dff27495",
   "metadata": {},
   "outputs": [],
   "source": [
    "hostname = 'redis-10067.c281.us-east-1-2.ec2.cloud.redislabs.com'\n",
    "port = 10067\n",
    "password = 'UqHJtIVIf5c4CWHmB28jAqRNZU6SI7CS'\n",
    "\n",
    "r = redis.Redis(\n",
    "                host=hostname,\n",
    "                port=10067,\n",
    "                password=password,\n",
    ")"
   ]
  },
  {
   "cell_type": "code",
   "execution_count": 4,
   "id": "42ae488e-fded-4296-8aaf-6086ab31ff05",
   "metadata": {},
   "outputs": [
    {
     "data": {
      "text/plain": [
       "True"
      ]
     },
     "execution_count": 4,
     "metadata": {},
     "output_type": "execute_result"
    }
   ],
   "source": [
    "r.ping()"
   ]
  },
  {
   "cell_type": "code",
   "execution_count": 5,
   "id": "a3a0e17a-0b66-4ac1-a641-b19bff9080cb",
   "metadata": {},
   "outputs": [
    {
     "data": {
      "text/plain": [
       "1"
      ]
     },
     "execution_count": 5,
     "metadata": {},
     "output_type": "execute_result"
    }
   ],
   "source": [
    "r.lpush('mylist','value_1') # this will create list with name mylist and with value value_1"
   ]
  },
  {
   "cell_type": "code",
   "execution_count": 6,
   "id": "7076b8a4-946e-4840-9e0d-cfe67ceab28e",
   "metadata": {},
   "outputs": [
    {
     "data": {
      "text/plain": [
       "b'value_1'"
      ]
     },
     "execution_count": 6,
     "metadata": {},
     "output_type": "execute_result"
    }
   ],
   "source": [
    "r.lindex(name='mylist',index=0)"
   ]
  },
  {
   "cell_type": "code",
   "execution_count": 8,
   "id": "1cca195e-2daf-468f-a13c-5da03e279c2e",
   "metadata": {},
   "outputs": [
    {
     "data": {
      "text/plain": [
       "[b'value_1']"
      ]
     },
     "execution_count": 8,
     "metadata": {},
     "output_type": "execute_result"
    }
   ],
   "source": [
    "r.lrange(name='mylist', start=0, end=-1)"
   ]
  },
  {
   "cell_type": "code",
   "execution_count": null,
   "id": "cd7929bf-ba4d-4aca-95ad-abdd38cbd4e5",
   "metadata": {},
   "outputs": [],
   "source": []
  }
 ],
 "metadata": {
  "kernelspec": {
   "display_name": "Python 3 (ipykernel)",
   "language": "python",
   "name": "python3"
  },
  "language_info": {
   "codemirror_mode": {
    "name": "ipython",
    "version": 3
   },
   "file_extension": ".py",
   "mimetype": "text/x-python",
   "name": "python",
   "nbconvert_exporter": "python",
   "pygments_lexer": "ipython3",
   "version": "3.11.7"
  }
 },
 "nbformat": 4,
 "nbformat_minor": 5
}
